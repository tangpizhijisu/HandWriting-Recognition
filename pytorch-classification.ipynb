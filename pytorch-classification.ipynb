{
 "cells": [
  {
   "cell_type": "code",
   "execution_count": 1,
   "id": "6b45034d",
   "metadata": {
    "_cell_guid": "b1076dfc-b9ad-4769-8c92-a6c4dae69d19",
    "_uuid": "8f2839f25d086af736a60e9eeb907d3b93b6e0e5",
    "execution": {
     "iopub.execute_input": "2022-04-04T11:27:28.018073Z",
     "iopub.status.busy": "2022-04-04T11:27:28.017002Z",
     "iopub.status.idle": "2022-04-04T11:27:28.027062Z",
     "shell.execute_reply": "2022-04-04T11:27:28.026362Z",
     "shell.execute_reply.started": "2022-04-04T11:26:06.881297Z"
    },
    "papermill": {
     "duration": 0.040769,
     "end_time": "2022-04-04T11:27:28.027297",
     "exception": false,
     "start_time": "2022-04-04T11:27:27.986528",
     "status": "completed"
    },
    "tags": []
   },
   "outputs": [],
   "source": [
    "# This Python 3 environment comes with many helpful analytics libraries installed\n",
    "# It is defined by the kaggle/python Docker image: https://github.com/kaggle/docker-python\n",
    "# For example, here's several helpful packages to load\n",
    "\n",
    "import numpy as np # linear algebra\n",
    "import pandas as pd # data processing, CSV file I/O (e.g. pd.read_csv)\n",
    "\n",
    "# Input data files are available in the read-only \"../input/\" directory\n",
    "# For example, running this (by clicking run or pressing Shift+Enter) will list all files under the input directory\n",
    "\n",
    "import os\n",
    "for dirname, _, filenames in os.walk('/kaggle/input'):\n",
    "    for filename in filenames:\n",
    "        print(os.path.join(dirname, filename))\n",
    "\n",
    "# You can write up to 20GB to the current directory (/kaggle/working/) that gets preserved as output when you create a version using \"Save & Run All\" \n",
    "# You can also write temporary files to /kaggle/temp/, but they won't be saved outside of the current session"
   ]
  },
  {
   "cell_type": "markdown",
   "id": "10e6ecd7",
   "metadata": {
    "papermill": {
     "duration": 0.018788,
     "end_time": "2022-04-04T11:27:28.067509",
     "exception": false,
     "start_time": "2022-04-04T11:27:28.048721",
     "status": "completed"
    },
    "tags": []
   },
   "source": [
    "# Pytorch手写数字识别"
   ]
  },
  {
   "cell_type": "markdown",
   "id": "d041969d",
   "metadata": {
    "papermill": {
     "duration": 0.019068,
     "end_time": "2022-04-04T11:27:28.105367",
     "exception": false,
     "start_time": "2022-04-04T11:27:28.086299",
     "status": "completed"
    },
    "tags": []
   },
   "source": [
    "参考资料：\n",
    "> https://haokan.baidu.com/v?pd=wisenatural&vid=6184145319063040834\n",
    "https://www.bilibili.com/video/BV1j64y1D748?p=7"
   ]
  },
  {
   "cell_type": "markdown",
   "id": "8e4bcdbd",
   "metadata": {
    "papermill": {
     "duration": 0.017752,
     "end_time": "2022-04-04T11:27:28.141465",
     "exception": false,
     "start_time": "2022-04-04T11:27:28.123713",
     "status": "completed"
    },
    "tags": []
   },
   "source": [
    "一些辅助函数"
   ]
  },
  {
   "cell_type": "code",
   "execution_count": 2,
   "id": "8955a36c",
   "metadata": {
    "execution": {
     "iopub.execute_input": "2022-04-04T11:27:28.188377Z",
     "iopub.status.busy": "2022-04-04T11:27:28.187314Z",
     "iopub.status.idle": "2022-04-04T11:27:29.837497Z",
     "shell.execute_reply": "2022-04-04T11:27:29.836729Z",
     "shell.execute_reply.started": "2022-04-04T11:26:06.913646Z"
    },
    "papermill": {
     "duration": 1.678115,
     "end_time": "2022-04-04T11:27:29.837662",
     "exception": false,
     "start_time": "2022-04-04T11:27:28.159547",
     "status": "completed"
    },
    "tags": []
   },
   "outputs": [],
   "source": [
    "#utils\n",
    "import  torch\n",
    "from    matplotlib import pyplot as plt\n",
    "\n",
    "\n",
    "def plot_curve(data):\n",
    "    fig = plt.figure()\n",
    "    plt.plot(range(len(data)), data, color='blue')\n",
    "    plt.legend(['value'], loc='upper right')\n",
    "    plt.xlabel('step')\n",
    "    plt.ylabel('value')\n",
    "    plt.show()\n",
    "\n",
    "\n",
    "\n",
    "def plot_image(img, label, name):\n",
    "\n",
    "    fig = plt.figure()\n",
    "    for i in range(6):\n",
    "        plt.subplot(2, 3, i + 1)\n",
    "        plt.tight_layout()\n",
    "        plt.imshow(img[i][0]*0.3081+0.1307, cmap='gray', interpolation='none')\n",
    "        plt.title(\"{}: {}\".format(name, label[i].item()))\n",
    "        plt.xticks([])\n",
    "        plt.yticks([])\n",
    "    plt.show()\n",
    "\n",
    "\n",
    "def one_hot(label, depth=10):\n",
    "    out = torch.zeros(label.size(0), depth)\n",
    "    idx = torch.LongTensor(label).view(-1, 1)\n",
    "    out.scatter_(dim=1, index=idx, value=1)\n",
    "    return out"
   ]
  },
  {
   "cell_type": "markdown",
   "id": "9013cc15",
   "metadata": {
    "papermill": {
     "duration": 0.017862,
     "end_time": "2022-04-04T11:27:29.876742",
     "exception": false,
     "start_time": "2022-04-04T11:27:29.858880",
     "status": "completed"
    },
    "tags": []
   },
   "source": [
    "1. ### 导入相关包"
   ]
  },
  {
   "cell_type": "code",
   "execution_count": 3,
   "id": "de2976a6",
   "metadata": {
    "execution": {
     "iopub.execute_input": "2022-04-04T11:27:29.918762Z",
     "iopub.status.busy": "2022-04-04T11:27:29.917838Z",
     "iopub.status.idle": "2022-04-04T11:27:30.134380Z",
     "shell.execute_reply": "2022-04-04T11:27:30.133703Z",
     "shell.execute_reply.started": "2022-04-04T11:26:08.341830Z"
    },
    "papermill": {
     "duration": 0.23973,
     "end_time": "2022-04-04T11:27:30.134542",
     "exception": false,
     "start_time": "2022-04-04T11:27:29.894812",
     "status": "completed"
    },
    "tags": []
   },
   "outputs": [],
   "source": [
    "from torch import nn\n",
    "from torch.nn import functional as F\n",
    "from torch import optim\n",
    "import torchvision #视觉工具包"
   ]
  },
  {
   "cell_type": "markdown",
   "id": "fb4601c8",
   "metadata": {
    "papermill": {
     "duration": 0.017708,
     "end_time": "2022-04-04T11:27:30.170434",
     "exception": false,
     "start_time": "2022-04-04T11:27:30.152726",
     "status": "completed"
    },
    "tags": []
   },
   "source": [
    "2. ### 下载数据集"
   ]
  },
  {
   "cell_type": "code",
   "execution_count": 4,
   "id": "7948ce07",
   "metadata": {
    "execution": {
     "iopub.execute_input": "2022-04-04T11:27:30.216228Z",
     "iopub.status.busy": "2022-04-04T11:27:30.215442Z",
     "iopub.status.idle": "2022-04-04T11:27:32.255607Z",
     "shell.execute_reply": "2022-04-04T11:27:32.256946Z",
     "shell.execute_reply.started": "2022-04-04T11:26:08.520481Z"
    },
    "papermill": {
     "duration": 2.069126,
     "end_time": "2022-04-04T11:27:32.257640",
     "exception": false,
     "start_time": "2022-04-04T11:27:30.188514",
     "status": "completed"
    },
    "tags": []
   },
   "outputs": [
    {
     "name": "stdout",
     "output_type": "stream",
     "text": [
      "Downloading http://yann.lecun.com/exdb/mnist/train-images-idx3-ubyte.gz\n",
      "Downloading http://yann.lecun.com/exdb/mnist/train-images-idx3-ubyte.gz to mnist_data/MNIST/raw/train-images-idx3-ubyte.gz\n"
     ]
    },
    {
     "data": {
      "application/vnd.jupyter.widget-view+json": {
       "model_id": "f0b32be2f5b14067b696a21a27b21d1d",
       "version_major": 2,
       "version_minor": 0
      },
      "text/plain": [
       "  0%|          | 0/9912422 [00:00<?, ?it/s]"
      ]
     },
     "metadata": {},
     "output_type": "display_data"
    },
    {
     "name": "stdout",
     "output_type": "stream",
     "text": [
      "Extracting mnist_data/MNIST/raw/train-images-idx3-ubyte.gz to mnist_data/MNIST/raw\n",
      "\n",
      "Downloading http://yann.lecun.com/exdb/mnist/train-labels-idx1-ubyte.gz\n",
      "Downloading http://yann.lecun.com/exdb/mnist/train-labels-idx1-ubyte.gz to mnist_data/MNIST/raw/train-labels-idx1-ubyte.gz\n"
     ]
    },
    {
     "data": {
      "application/vnd.jupyter.widget-view+json": {
       "model_id": "e23db2d7f2d24f0a924baca919366c1a",
       "version_major": 2,
       "version_minor": 0
      },
      "text/plain": [
       "  0%|          | 0/28881 [00:00<?, ?it/s]"
      ]
     },
     "metadata": {},
     "output_type": "display_data"
    },
    {
     "name": "stdout",
     "output_type": "stream",
     "text": [
      "Extracting mnist_data/MNIST/raw/train-labels-idx1-ubyte.gz to mnist_data/MNIST/raw\n",
      "\n",
      "Downloading http://yann.lecun.com/exdb/mnist/t10k-images-idx3-ubyte.gz\n",
      "Downloading http://yann.lecun.com/exdb/mnist/t10k-images-idx3-ubyte.gz to mnist_data/MNIST/raw/t10k-images-idx3-ubyte.gz\n"
     ]
    },
    {
     "data": {
      "application/vnd.jupyter.widget-view+json": {
       "model_id": "6fb0e3cf07d24a33be0de625fde355d4",
       "version_major": 2,
       "version_minor": 0
      },
      "text/plain": [
       "  0%|          | 0/1648877 [00:00<?, ?it/s]"
      ]
     },
     "metadata": {},
     "output_type": "display_data"
    },
    {
     "name": "stdout",
     "output_type": "stream",
     "text": [
      "Extracting mnist_data/MNIST/raw/t10k-images-idx3-ubyte.gz to mnist_data/MNIST/raw\n",
      "\n",
      "Downloading http://yann.lecun.com/exdb/mnist/t10k-labels-idx1-ubyte.gz\n",
      "Downloading http://yann.lecun.com/exdb/mnist/t10k-labels-idx1-ubyte.gz to mnist_data/MNIST/raw/t10k-labels-idx1-ubyte.gz\n"
     ]
    },
    {
     "data": {
      "application/vnd.jupyter.widget-view+json": {
       "model_id": "cb70fa315d0b4909a5d52ca7eb84ed79",
       "version_major": 2,
       "version_minor": 0
      },
      "text/plain": [
       "  0%|          | 0/4542 [00:00<?, ?it/s]"
      ]
     },
     "metadata": {},
     "output_type": "display_data"
    },
    {
     "name": "stdout",
     "output_type": "stream",
     "text": [
      "Extracting mnist_data/MNIST/raw/t10k-labels-idx1-ubyte.gz to mnist_data/MNIST/raw\n",
      "\n"
     ]
    },
    {
     "name": "stderr",
     "output_type": "stream",
     "text": [
      "/opt/conda/lib/python3.7/site-packages/torchvision/datasets/mnist.py:498: UserWarning: The given NumPy array is not writeable, and PyTorch does not support non-writeable tensors. This means you can write to the underlying (supposedly non-writeable) NumPy array using the tensor. You may want to copy the array to protect its data or make it writeable before converting it to a tensor. This type of warning will be suppressed for the rest of this program. (Triggered internally at  /usr/local/src/pytorch/torch/csrc/utils/tensor_numpy.cpp:174.)\n",
      "  return torch.from_numpy(parsed.astype(m[2], copy=False)).view(*s)\n"
     ]
    }
   ],
   "source": [
    "batch_size=512 #定义一个batch的大小\n",
    "\n",
    "train_loader=torch.utils.data.DataLoader(#训练数据集\n",
    "    torchvision.datasets.MNIST('mnist_data',train=True,download=True,\n",
    "                              transform=torchvision.transforms.Compose([\n",
    "                                  torchvision.transforms.ToTensor(),#转换成tensor\n",
    "                                  torchvision.transforms.Normalize((0.1307,),(0.3081,))#正则化使其在0附近均匀分布\n",
    "                              ])),\n",
    "    batch_size=batch_size,shuffle=True#加载时随机打散\n",
    ")\n",
    "test_loader=torch.utils.data.DataLoader(#测试数据集\n",
    "    torchvision.datasets.MNIST('mnist_data/',train=False,download=True,\n",
    "                              transform=torchvision.transforms.Compose([\n",
    "                                  torchvision.transforms.ToTensor(),#转换成tensor\n",
    "                                  torchvision.transforms.Normalize((0.1307,),(0.3081,))#正则化使其在0附近均匀分布\n",
    "                              ])),\n",
    "    batch_size=batch_size,shuffle=False\n",
    ")"
   ]
  },
  {
   "cell_type": "markdown",
   "id": "0b4b2029",
   "metadata": {
    "papermill": {
     "duration": 0.039208,
     "end_time": "2022-04-04T11:27:32.337757",
     "exception": false,
     "start_time": "2022-04-04T11:27:32.298549",
     "status": "completed"
    },
    "tags": []
   },
   "source": [
    "看一看处理完的数据集"
   ]
  },
  {
   "cell_type": "code",
   "execution_count": 5,
   "id": "cf3bc7e1",
   "metadata": {
    "execution": {
     "iopub.execute_input": "2022-04-04T11:27:32.426448Z",
     "iopub.status.busy": "2022-04-04T11:27:32.425464Z",
     "iopub.status.idle": "2022-04-04T11:27:33.296524Z",
     "shell.execute_reply": "2022-04-04T11:27:33.297092Z",
     "shell.execute_reply.started": "2022-04-04T11:26:10.201669Z"
    },
    "papermill": {
     "duration": 0.919427,
     "end_time": "2022-04-04T11:27:33.297294",
     "exception": false,
     "start_time": "2022-04-04T11:27:32.377867",
     "status": "completed"
    },
    "tags": []
   },
   "outputs": [
    {
     "name": "stdout",
     "output_type": "stream",
     "text": [
      "torch.Size([512, 1, 28, 28]) torch.Size([512]) tensor(-0.4242) tensor(2.8215)\n"
     ]
    },
    {
     "data": {
      "image/png": "[encoded data removed]",
      "text/plain": [
       "<Figure size 432x288 with 6 Axes>"
      ]
     },
     "metadata": {},
     "output_type": "display_data"
    }
   ],
   "source": [
    "x,y=next(iter(train_loader))\n",
    "print(x.shape,y.shape,x.min(),x.max())\n",
    "plot_image(x,y,'image_sample')"
   ]
  },
  {
   "cell_type": "markdown",
   "id": "400d0c91",
   "metadata": {
    "papermill": {
     "duration": 0.027621,
     "end_time": "2022-04-04T11:27:33.352334",
     "exception": false,
     "start_time": "2022-04-04T11:27:33.324713",
     "status": "completed"
    },
    "tags": []
   },
   "source": [
    "3. ### 创建网络 "
   ]
  },
  {
   "cell_type": "markdown",
   "id": "d3adf1aa",
   "metadata": {
    "papermill": {
     "duration": 0.025341,
     "end_time": "2022-04-04T11:27:33.405539",
     "exception": false,
     "start_time": "2022-04-04T11:27:33.380198",
     "status": "completed"
    },
    "tags": []
   },
   "source": [
    "nn.Linear()用法：<br />\n",
    "用于设置全连接层，输入与输出一般都设置为二维张量，形状通常为`[batch_size, size]`<br />\n",
    "第一个参数：输入的二维张量大小`[batch_size, size]`中的size<br />\n",
    "第二个参数：输出的二维张量的大小输出的二维张量的形状为`[batch_size，output_size]`<br />\n",
    "> 参考https://blog.csdn.net/qq_42079689/article/details/102873766"
   ]
  },
  {
   "cell_type": "code",
   "execution_count": 6,
   "id": "56fcbc64",
   "metadata": {
    "execution": {
     "iopub.execute_input": "2022-04-04T11:27:33.465835Z",
     "iopub.status.busy": "2022-04-04T11:27:33.464643Z",
     "iopub.status.idle": "2022-04-04T11:27:33.468020Z",
     "shell.execute_reply": "2022-04-04T11:27:33.467466Z",
     "shell.execute_reply.started": "2022-04-04T11:26:10.781044Z"
    },
    "papermill": {
     "duration": 0.036912,
     "end_time": "2022-04-04T11:27:33.468198",
     "exception": false,
     "start_time": "2022-04-04T11:27:33.431286",
     "status": "completed"
    },
    "tags": []
   },
   "outputs": [],
   "source": [
    "class Net(nn.Module):#定义我们的网络，继承pytorch的nn\n",
    "    def __init__(self):\n",
    "        super(Net,self).__init__()#初始化\n",
    "        \n",
    "        #第一层\n",
    "        self.fc1=nn.Linear(28*28,256)\n",
    "        #第二层\n",
    "        self.fc2=nn.Linear(256,64)#64是经验决定的\n",
    "        #第三层\n",
    "        self.fc3=nn.Linear(64,10)\n",
    "        \n",
    "    def forward(self,x):\n",
    "        #x:[b,1,28,28]\n",
    "        #h1=relu(xw+b)\n",
    "        x=F.relu(self.fc1(x))\n",
    "        #h2=relu(h1w+b)\n",
    "        x=F.relu(self.fc2(x))\n",
    "        #h3=h2w3+b3\n",
    "        x=self.fc3(x)\n",
    "        \n",
    "        return x"
   ]
  },
  {
   "cell_type": "markdown",
   "id": "c34455c7",
   "metadata": {
    "papermill": {
     "duration": 0.025451,
     "end_time": "2022-04-04T11:27:33.523482",
     "exception": false,
     "start_time": "2022-04-04T11:27:33.498031",
     "status": "completed"
    },
    "tags": []
   },
   "source": [
    "注意：init的前后是两个下划线"
   ]
  },
  {
   "cell_type": "markdown",
   "id": "40791dac",
   "metadata": {
    "papermill": {
     "duration": 0.02513,
     "end_time": "2022-04-04T11:27:33.574758",
     "exception": false,
     "start_time": "2022-04-04T11:27:33.549628",
     "status": "completed"
    },
    "tags": []
   },
   "source": [
    "4. ### 训练过程"
   ]
  },
  {
   "cell_type": "code",
   "execution_count": 7,
   "id": "92bcf282",
   "metadata": {
    "execution": {
     "iopub.execute_input": "2022-04-04T11:27:33.636185Z",
     "iopub.status.busy": "2022-04-04T11:27:33.635190Z",
     "iopub.status.idle": "2022-04-04T11:28:17.382135Z",
     "shell.execute_reply": "2022-04-04T11:28:17.382716Z",
     "shell.execute_reply.started": "2022-04-04T11:26:10.789218Z"
    },
    "papermill": {
     "duration": 43.782639,
     "end_time": "2022-04-04T11:28:17.382903",
     "exception": false,
     "start_time": "2022-04-04T11:27:33.600264",
     "status": "completed"
    },
    "tags": []
   },
   "outputs": [
    {
     "name": "stdout",
     "output_type": "stream",
     "text": [
      "0 0 0.10040441900491714\n",
      "0 10 0.0921640396118164\n",
      "0 20 0.08566787838935852\n",
      "0 30 0.07834387570619583\n",
      "0 40 0.07235356420278549\n",
      "0 50 0.06840420514345169\n",
      "0 60 0.06538622826337814\n",
      "0 70 0.062026284635066986\n",
      "0 80 0.058046139776706696\n",
      "0 90 0.05624013394117355\n",
      "0 100 0.05337189882993698\n",
      "0 110 0.05373029038310051\n",
      "1 0 0.04966745525598526\n",
      "1 10 0.04940873757004738\n",
      "1 20 0.04855190962553024\n",
      "1 30 0.04575536400079727\n",
      "1 40 0.0451594702899456\n",
      "1 50 0.04637223854660988\n",
      "1 60 0.04346683621406555\n",
      "1 70 0.044371310621500015\n",
      "1 80 0.04096296429634094\n",
      "1 90 0.04141973704099655\n",
      "1 100 0.041686948388814926\n",
      "1 110 0.04037974402308464\n",
      "2 0 0.04146377742290497\n",
      "2 10 0.03679373115301132\n",
      "2 20 0.04082031175494194\n",
      "2 30 0.03721030801534653\n",
      "2 40 0.03801581263542175\n",
      "2 50 0.03513481467962265\n",
      "2 60 0.03735331445932388\n",
      "2 70 0.0340920090675354\n",
      "2 80 0.033069103956222534\n",
      "2 90 0.03495553508400917\n",
      "2 100 0.03230679780244827\n",
      "2 110 0.034303899854421616\n"
     ]
    },
    {
     "data": {
      "image/png": "[encoded data removed]",
      "text/plain": [
       "<Figure size 432x288 with 1 Axes>"
      ]
     },
     "metadata": {
      "needs_background": "light"
     },
     "output_type": "display_data"
    }
   ],
   "source": [
    "net=Net() #创建网络对象\n",
    "optimizer=optim.SGD(net.parameters(),lr=0.01,momentum=0.9)#优化器\n",
    "train_loss=[]\n",
    "\n",
    "for epoch in range(3):#三个epoch\n",
    "    for batch_idx,(x,y) in enumerate(train_loader):\n",
    "        # x: [b, 1, 28, 28], y: [512]\n",
    "        # [b, 1, 28, 28] => [b, 784]由于x是四维的，得先把x打平\n",
    "        x=x.view(x.size(0),28*28)\n",
    "        out=net(x)\n",
    "        y_onehot=one_hot(y)#将y转换成onehot\n",
    "        \n",
    "        #定义loss,使用梯度下降法进行优化\n",
    "        loss=F.mse_loss(out,y_onehot)\n",
    "        optimizer.zero_grad()#梯度清零\n",
    "        loss.backward()\n",
    "        #w'=w-lr.grad\n",
    "        optimizer.step()\n",
    "        train_loss.append(loss.item())\n",
    "        \n",
    "        if batch_idx%10==0:#每隔10个batch打印loss，看看是否变得更好\n",
    "            print(epoch, batch_idx, loss.item())\n",
    "            \n",
    "plot_curve(train_loss)"
   ]
  },
  {
   "cell_type": "markdown",
   "id": "bc5f4f82",
   "metadata": {
    "papermill": {
     "duration": 0.041244,
     "end_time": "2022-04-04T11:28:17.466224",
     "exception": false,
     "start_time": "2022-04-04T11:28:17.424980",
     "status": "completed"
    },
    "tags": []
   },
   "source": [
    "loss整体在逐渐变小！"
   ]
  },
  {
   "cell_type": "markdown",
   "id": "c4e81991",
   "metadata": {
    "papermill": {
     "duration": 0.040267,
     "end_time": "2022-04-04T11:28:17.547344",
     "exception": false,
     "start_time": "2022-04-04T11:28:17.507077",
     "status": "completed"
    },
    "tags": []
   },
   "source": [
    "5. ### 准确度测试"
   ]
  },
  {
   "cell_type": "code",
   "execution_count": 8,
   "id": "af5f1208",
   "metadata": {
    "execution": {
     "iopub.execute_input": "2022-04-04T11:28:17.638837Z",
     "iopub.status.busy": "2022-04-04T11:28:17.634287Z",
     "iopub.status.idle": "2022-04-04T11:28:20.512512Z",
     "shell.execute_reply": "2022-04-04T11:28:20.513231Z",
     "shell.execute_reply.started": "2022-04-04T11:26:36.205346Z"
    },
    "papermill": {
     "duration": 2.925352,
     "end_time": "2022-04-04T11:28:20.513448",
     "exception": false,
     "start_time": "2022-04-04T11:28:17.588096",
     "status": "completed"
    },
    "tags": []
   },
   "outputs": [
    {
     "name": "stdout",
     "output_type": "stream",
     "text": [
      "test acc: 0.8869\n"
     ]
    },
    {
     "data": {
      "image/png": "[encoded data removed]",
      "text/plain": [
       "<Figure size 432x288 with 6 Axes>"
      ]
     },
     "metadata": {},
     "output_type": "display_data"
    }
   ],
   "source": [
    "total_correct=0\n",
    "for x,y in test_loader:\n",
    "    x=x.view(x.size(0),28*28)\n",
    "    out=net(x)#调用测试数据得到输出\n",
    "    pred=out.argmax(dim=1)\n",
    "    correct=pred.eq(y).sum().float().item()#正确的个数\n",
    "    total_correct+=correct\n",
    "    \n",
    "total_num=len(test_loader.dataset)\n",
    "acc=total_correct/total_num\n",
    "print('test acc:',acc)\n",
    "\n",
    "x,y=next(iter(test_loader))\n",
    "out=net(x.view(x.size(0),28*28))\n",
    "pred=out.argmax(dim=1)\n",
    "plot_image(x,pred,'test')"
   ]
  }
 ],
 "metadata": {
  "kernelspec": {
   "display_name": "Python 3",
   "language": "python",
   "name": "python3"
  },
  "language_info": {
   "codemirror_mode": {
    "name": "ipython",
    "version": 3
   },
   "file_extension": ".py",
   "mimetype": "text/x-python",
   "name": "python",
   "nbconvert_exporter": "python",
   "pygments_lexer": "ipython3",
   "version": "3.7.12"
  },
  "papermill": {
   "default_parameters": {},
   "duration": 64.170475,
   "end_time": "2022-04-04T11:28:21.672370",
   "environment_variables": {},
   "exception": null,
   "input_path": "__notebook__.ipynb",
   "output_path": "__notebook__.ipynb",
   "parameters": {},
   "start_time": "2022-04-04T11:27:17.501895",
   "version": "2.3.3"
  },
  "widgets": {
   "application/vnd.jupyter.widget-state+json": {
    "state": {
     "01ac3bb590a7476593932e163c050f3a": {
      "model_module": "@jupyter-widgets/controls",
      "model_module_version": "1.5.0",
      "model_name": "DescriptionStyleModel",
      "state": {
       "_model_module": "@jupyter-widgets/controls",
       "_model_module_version": "1.5.0",
       "_model_name": "DescriptionStyleModel",
       "_view_count": null,
       "_view_module": "@jupyter-widgets/base",
       "_view_module_version": "1.2.0",
       "_view_name": "StyleView",
       "description_width": ""
      }
     },
     "02a262685816443da333bedd340b9587": {
      "model_module": "@jupyter-widgets/base",
      "model_module_version": "1.2.0",
      "model_name": "LayoutModel",
      "state": {
       "_model_module": "@jupyter-widgets/base",
       "_model_module_version": "1.2.0",
       "_model_name": "LayoutModel",
       "_view_count": null,
       "_view_module": "@jupyter-widgets/base",
       "_view_module_version": "1.2.0",
       "_view_name": "LayoutView",
       "align_content": null,
       "align_items": null,
       "align_self": null,
       "border": null,
       "bottom": null,
       "display": null,
       "flex": null,
       "flex_flow": null,
       "grid_area": null,
       "grid_auto_columns": null,
       "grid_auto_flow": null,
       "grid_auto_rows": null,
       "grid_column": null,
       "grid_gap": null,
       "grid_row": null,
       "grid_template_areas": null,
       "grid_template_columns": null,
       "grid_template_rows": null,
       "height": null,
       "justify_content": null,
       "justify_items": null,
       "left": null,
       "margin": null,
       "max_height": null,
       "max_width": null,
       "min_height": null,
       "min_width": null,
       "object_fit": null,
       "object_position": null,
       "order": null,
       "overflow": null,
       "overflow_x": null,
       "overflow_y": null,
       "padding": null,
       "right": null,
       "top": null,
       "visibility": null,
       "width": null
      }
     },
     "083b5cd94f7845e792294af88b9375e4": {
      "model_module": "@jupyter-widgets/base",
      "model_module_version": "1.2.0",
      "model_name": "LayoutModel",
      "state": {
       "_model_module": "@jupyter-widgets/base",
       "_model_module_version": "1.2.0",
       "_model_name": "LayoutModel",
       "_view_count": null,
       "_view_module": "@jupyter-widgets/base",
       "_view_module_version": "1.2.0",
       "_view_name": "LayoutView",
       "align_content": null,
       "align_items": null,
       "align_self": null,
       "border": null,
       "bottom": null,
       "display": null,
       "flex": null,
       "flex_flow": null,
       "grid_area": null,
       "grid_auto_columns": null,
       "grid_auto_flow": null,
       "grid_auto_rows": null,
       "grid_column": null,
       "grid_gap": null,
       "grid_row": null,
       "grid_template_areas": null,
       "grid_template_columns": null,
       "grid_template_rows": null,
       "height": null,
       "justify_content": null,
       "justify_items": null,
       "left": null,
       "margin": null,
       "max_height": null,
       "max_width": null,
       "min_height": null,
       "min_width": null,
       "object_fit": null,
       "object_position": null,
       "order": null,
       "overflow": null,
       "overflow_x": null,
       "overflow_y": null,
       "padding": null,
       "right": null,
       "top": null,
       "visibility": null,
       "width": null
      }
     },
     "0d13638823f94b988516ef310854f5de": {
      "model_module": "@jupyter-widgets/controls",
      "model_module_version": "1.5.0",
      "model_name": "HTMLModel",
      "state": {
       "_dom_classes": [],
       "_model_module": "@jupyter-widgets/controls",
       "_model_module_version": "1.5.0",
       "_model_name": "HTMLModel",
       "_view_count": null,
       "_view_module": "@jupyter-widgets/controls",
       "_view_module_version": "1.5.0",
       "_view_name": "HTMLView",
       "description": "",
       "description_tooltip": null,
       "layout": "IPY_MODEL_7296859a1e304587a691fe96ee091683",
       "placeholder": "​",
       "style": "IPY_MODEL_636b03de1444417694bbf0e2cb3f1281",
       "value": ""
      }
     },
     "2672a641763c4480910da819e3735553": {
      "model_module": "@jupyter-widgets/controls",
      "model_module_version": "1.5.0",
      "model_name": "HTMLModel",
      "state": {
       "_dom_classes": [],
       "_model_module": "@jupyter-widgets/controls",
       "_model_module_version": "1.5.0",
       "_model_name": "HTMLModel",
       "_view_count": null,
       "_view_module": "@jupyter-widgets/controls",
       "_view_module_version": "1.5.0",
       "_view_name": "HTMLView",
       "description": "",
       "description_tooltip": null,
       "layout": "IPY_MODEL_70743e23411a4be28f42da6475bc8978",
       "placeholder": "​",
       "style": "IPY_MODEL_e2f846019e2c4892a22763a2d1015ea5",
       "value": " 29696/? [00:00&lt;00:00, 952903.77it/s]"
      }
     },
     "37134097f8914ddb86cd703d0bb9aba2": {
      "model_module": "@jupyter-widgets/base",
      "model_module_version": "1.2.0",
      "model_name": "LayoutModel",
      "state": {
       "_model_module": "@jupyter-widgets/base",
       "_model_module_version": "1.2.0",
       "_model_name": "LayoutModel",
       "_view_count": null,
       "_view_module": "@jupyter-widgets/base",
       "_view_module_version": "1.2.0",
       "_view_name": "LayoutView",
       "align_content": null,
       "align_items": null,
       "align_self": null,
       "border": null,
       "bottom": null,
       "display": null,
       "flex": null,
       "flex_flow": null,
       "grid_area": null,
       "grid_auto_columns": null,
       "grid_auto_flow": null,
       "grid_auto_rows": null,
       "grid_column": null,
       "grid_gap": null,
       "grid_row": null,
       "grid_template_areas": null,
       "grid_template_columns": null,
       "grid_template_rows": null,
       "height": null,
       "justify_content": null,
       "justify_items": null,
       "left": null,
       "margin": null,
       "max_height": null,
       "max_width": null,
       "min_height": null,
       "min_width": null,
       "object_fit": null,
       "object_position": null,
       "order": null,
       "overflow": null,
       "overflow_x": null,
       "overflow_y": null,
       "padding": null,
       "right": null,
       "top": null,
       "visibility": null,
       "width": null
      }
     },
     "39588c0a56e341a380b8c31bf0b68fa3": {
      "model_module": "@jupyter-widgets/controls",
      "model_module_version": "1.5.0",
      "model_name": "HTMLModel",
      "state": {
       "_dom_classes": [],
       "_model_module": "@jupyter-widgets/controls",
       "_model_module_version": "1.5.0",
       "_model_name": "HTMLModel",
       "_view_count": null,
       "_view_module": "@jupyter-widgets/controls",
       "_view_module_version": "1.5.0",
       "_view_name": "HTMLView",
       "description": "",
       "description_tooltip": null,
       "layout": "IPY_MODEL_b57ae8dbfe184edd8042dcf843ae156c",
       "placeholder": "​",
       "style": "IPY_MODEL_4e7928f2ed5043fe8a23018463cb1713",
       "value": " 9913344/? [00:00&lt;00:00, 42965441.97it/s]"
      }
     },
     "3c0dd524ed804cedbc797b6779efd163": {
      "model_module": "@jupyter-widgets/base",
      "model_module_version": "1.2.0",
      "model_name": "LayoutModel",
      "state": {
       "_model_module": "@jupyter-widgets/base",
       "_model_module_version": "1.2.0",
       "_model_name": "LayoutModel",
       "_view_count": null,
       "_view_module": "@jupyter-widgets/base",
       "_view_module_version": "1.2.0",
       "_view_name": "LayoutView",
       "align_content": null,
       "align_items": null,
       "align_self": null,
       "border": null,
       "bottom": null,
       "display": null,
       "flex": null,
       "flex_flow": null,
       "grid_area": null,
       "grid_auto_columns": null,
       "grid_auto_flow": null,
       "grid_auto_rows": null,
       "grid_column": null,
       "grid_gap": null,
       "grid_row": null,
       "grid_template_areas": null,
       "grid_template_columns": null,
       "grid_template_rows": null,
       "height": null,
       "justify_content": null,
       "justify_items": null,
       "left": null,
       "margin": null,
       "max_height": null,
       "max_width": null,
       "min_height": null,
       "min_width": null,
       "object_fit": null,
       "object_position": null,
       "order": null,
       "overflow": null,
       "overflow_x": null,
       "overflow_y": null,
       "padding": null,
       "right": null,
       "top": null,
       "visibility": null,
       "width": null
      }
     },
     "4e7928f2ed5043fe8a23018463cb1713": {
      "model_module": "@jupyter-widgets/controls",
      "model_module_version": "1.5.0",
      "model_name": "DescriptionStyleModel",
      "state": {
       "_model_module": "@jupyter-widgets/controls",
       "_model_module_version": "1.5.0",
       "_model_name": "DescriptionStyleModel",
       "_view_count": null,
       "_view_module": "@jupyter-widgets/base",
       "_view_module_version": "1.2.0",
       "_view_name": "StyleView",
       "description_width": ""
      }
     },
     "5764ea055d7b459797e6c8375669e1dc": {
      "model_module": "@jupyter-widgets/controls",
      "model_module_version": "1.5.0",
      "model_name": "HTMLModel",
      "state": {
       "_dom_classes": [],
       "_model_module": "@jupyter-widgets/controls",
       "_model_module_version": "1.5.0",
       "_model_name": "HTMLModel",
       "_view_count": null,
       "_view_module": "@jupyter-widgets/controls",
       "_view_module_version": "1.5.0",
       "_view_name": "HTMLView",
       "description": "",
       "description_tooltip": null,
       "layout": "IPY_MODEL_02a262685816443da333bedd340b9587",
       "placeholder": "​",
       "style": "IPY_MODEL_9ca17f552a71419482aa748fbb0e45a9",
       "value": " 5120/? [00:00&lt;00:00, 78038.95it/s]"
      }
     },
     "5ee5895f1ff347c888bd9eb347b4ef37": {
      "model_module": "@jupyter-widgets/base",
      "model_module_version": "1.2.0",
      "model_name": "LayoutModel",
      "state": {
       "_model_module": "@jupyter-widgets/base",
       "_model_module_version": "1.2.0",
       "_model_name": "LayoutModel",
       "_view_count": null,
       "_view_module": "@jupyter-widgets/base",
       "_view_module_version": "1.2.0",
       "_view_name": "LayoutView",
       "align_content": null,
       "align_items": null,
       "align_self": null,
       "border": null,
       "bottom": null,
       "display": null,
       "flex": null,
       "flex_flow": null,
       "grid_area": null,
       "grid_auto_columns": null,
       "grid_auto_flow": null,
       "grid_auto_rows": null,
       "grid_column": null,
       "grid_gap": null,
       "grid_row": null,
       "grid_template_areas": null,
       "grid_template_columns": null,
       "grid_template_rows": null,
       "height": null,
       "justify_content": null,
       "justify_items": null,
       "left": null,
       "margin": null,
       "max_height": null,
       "max_width": null,
       "min_height": null,
       "min_width": null,
       "object_fit": null,
       "object_position": null,
       "order": null,
       "overflow": null,
       "overflow_x": null,
       "overflow_y": null,
       "padding": null,
       "right": null,
       "top": null,
       "visibility": null,
       "width": null
      }
     },
     "636b03de1444417694bbf0e2cb3f1281": {
      "model_module": "@jupyter-widgets/controls",
      "model_module_version": "1.5.0",
      "model_name": "DescriptionStyleModel",
      "state": {
       "_model_module": "@jupyter-widgets/controls",
       "_model_module_version": "1.5.0",
       "_model_name": "DescriptionStyleModel",
       "_view_count": null,
       "_view_module": "@jupyter-widgets/base",
       "_view_module_version": "1.2.0",
       "_view_name": "StyleView",
       "description_width": ""
      }
     },
     "63f27878b60c460eb04f964e5dee8378": {
      "model_module": "@jupyter-widgets/controls",
      "model_module_version": "1.5.0",
      "model_name": "HTMLModel",
      "state": {
       "_dom_classes": [],
       "_model_module": "@jupyter-widgets/controls",
       "_model_module_version": "1.5.0",
       "_model_name": "HTMLModel",
       "_view_count": null,
       "_view_module": "@jupyter-widgets/controls",
       "_view_module_version": "1.5.0",
       "_view_name": "HTMLView",
       "description": "",
       "description_tooltip": null,
       "layout": "IPY_MODEL_acaf834a52cb4c9f891c833359c389d9",
       "placeholder": "​",
       "style": "IPY_MODEL_856a7c4c0f1d44e3be8c8bb9667af680",
       "value": ""
      }
     },
     "6fb0e3cf07d24a33be0de625fde355d4": {
      "model_module": "@jupyter-widgets/controls",
      "model_module_version": "1.5.0",
      "model_name": "HBoxModel",
      "state": {
       "_dom_classes": [],
       "_model_module": "@jupyter-widgets/controls",
       "_model_module_version": "1.5.0",
       "_model_name": "HBoxModel",
       "_view_count": null,
       "_view_module": "@jupyter-widgets/controls",
       "_view_module_version": "1.5.0",
       "_view_name": "HBoxView",
       "box_style": "",
       "children": [
        "IPY_MODEL_b2012a73d11249dbbd83f2a9d0ca82f0",
        "IPY_MODEL_feacea26566540149e4837a353b3571e",
        "IPY_MODEL_dcbed18365d54ca987450d929fdedda7"
       ],
       "layout": "IPY_MODEL_e820bfaa1e3f454cbcd7f3ebef3a6013"
      }
     },
     "7045c1c097084687bfb07f3b15f093d6": {
      "model_module": "@jupyter-widgets/controls",
      "model_module_version": "1.5.0",
      "model_name": "FloatProgressModel",
      "state": {
       "_dom_classes": [],
       "_model_module": "@jupyter-widgets/controls",
       "_model_module_version": "1.5.0",
       "_model_name": "FloatProgressModel",
       "_view_count": null,
       "_view_module": "@jupyter-widgets/controls",
       "_view_module_version": "1.5.0",
       "_view_name": "ProgressView",
       "bar_style": "success",
       "description": "",
       "description_tooltip": null,
       "layout": "IPY_MODEL_37134097f8914ddb86cd703d0bb9aba2",
       "max": 28881.0,
       "min": 0.0,
       "orientation": "horizontal",
       "style": "IPY_MODEL_a1e96413cf1a4b1b9b84e5aa2455d203",
       "value": 28881.0
      }
     },
     "70743e23411a4be28f42da6475bc8978": {
      "model_module": "@jupyter-widgets/base",
      "model_module_version": "1.2.0",
      "model_name": "LayoutModel",
      "state": {
       "_model_module": "@jupyter-widgets/base",
       "_model_module_version": "1.2.0",
       "_model_name": "LayoutModel",
       "_view_count": null,
       "_view_module": "@jupyter-widgets/base",
       "_view_module_version": "1.2.0",
       "_view_name": "LayoutView",
       "align_content": null,
       "align_items": null,
       "align_self": null,
       "border": null,
       "bottom": null,
       "display": null,
       "flex": null,
       "flex_flow": null,
       "grid_area": null,
       "grid_auto_columns": null,
       "grid_auto_flow": null,
       "grid_auto_rows": null,
       "grid_column": null,
       "grid_gap": null,
       "grid_row": null,
       "grid_template_areas": null,
       "grid_template_columns": null,
       "grid_template_rows": null,
       "height": null,
       "justify_content": null,
       "justify_items": null,
       "left": null,
       "margin": null,
       "max_height": null,
       "max_width": null,
       "min_height": null,
       "min_width": null,
       "object_fit": null,
       "object_position": null,
       "order": null,
       "overflow": null,
       "overflow_x": null,
       "overflow_y": null,
       "padding": null,
       "right": null,
       "top": null,
       "visibility": null,
       "width": null
      }
     },
     "7296859a1e304587a691fe96ee091683": {
      "model_module": "@jupyter-widgets/base",
      "model_module_version": "1.2.0",
      "model_name": "LayoutModel",
      "state": {
       "_model_module": "@jupyter-widgets/base",
       "_model_module_version": "1.2.0",
       "_model_name": "LayoutModel",
       "_view_count": null,
       "_view_module": "@jupyter-widgets/base",
       "_view_module_version": "1.2.0",
       "_view_name": "LayoutView",
       "align_content": null,
       "align_items": null,
       "align_self": null,
       "border": null,
       "bottom": null,
       "display": null,
       "flex": null,
       "flex_flow": null,
       "grid_area": null,
       "grid_auto_columns": null,
       "grid_auto_flow": null,
       "grid_auto_rows": null,
       "grid_column": null,
       "grid_gap": null,
       "grid_row": null,
       "grid_template_areas": null,
       "grid_template_columns": null,
       "grid_template_rows": null,
       "height": null,
       "justify_content": null,
       "justify_items": null,
       "left": null,
       "margin": null,
       "max_height": null,
       "max_width": null,
       "min_height": null,
       "min_width": null,
       "object_fit": null,
       "object_position": null,
       "order": null,
       "overflow": null,
       "overflow_x": null,
       "overflow_y": null,
       "padding": null,
       "right": null,
       "top": null,
       "visibility": null,
       "width": null
      }
     },
     "856a7c4c0f1d44e3be8c8bb9667af680": {
      "model_module": "@jupyter-widgets/controls",
      "model_module_version": "1.5.0",
      "model_name": "DescriptionStyleModel",
      "state": {
       "_model_module": "@jupyter-widgets/controls",
       "_model_module_version": "1.5.0",
       "_model_name": "DescriptionStyleModel",
       "_view_count": null,
       "_view_module": "@jupyter-widgets/base",
       "_view_module_version": "1.2.0",
       "_view_name": "StyleView",
       "description_width": ""
      }
     },
     "8e30633e236749ad9e388bce7edc137c": {
      "model_module": "@jupyter-widgets/base",
      "model_module_version": "1.2.0",
      "model_name": "LayoutModel",
      "state": {
       "_model_module": "@jupyter-widgets/base",
       "_model_module_version": "1.2.0",
       "_model_name": "LayoutModel",
       "_view_count": null,
       "_view_module": "@jupyter-widgets/base",
       "_view_module_version": "1.2.0",
       "_view_name": "LayoutView",
       "align_content": null,
       "align_items": null,
       "align_self": null,
       "border": null,
       "bottom": null,
       "display": null,
       "flex": null,
       "flex_flow": null,
       "grid_area": null,
       "grid_auto_columns": null,
       "grid_auto_flow": null,
       "grid_auto_rows": null,
       "grid_column": null,
       "grid_gap": null,
       "grid_row": null,
       "grid_template_areas": null,
       "grid_template_columns": null,
       "grid_template_rows": null,
       "height": null,
       "justify_content": null,
       "justify_items": null,
       "left": null,
       "margin": null,
       "max_height": null,
       "max_width": null,
       "min_height": null,
       "min_width": null,
       "object_fit": null,
       "object_position": null,
       "order": null,
       "overflow": null,
       "overflow_x": null,
       "overflow_y": null,
       "padding": null,
       "right": null,
       "top": null,
       "visibility": null,
       "width": null
      }
     },
     "98224fbe75e54e069daef3177255d0f5": {
      "model_module": "@jupyter-widgets/controls",
      "model_module_version": "1.5.0",
      "model_name": "FloatProgressModel",
      "state": {
       "_dom_classes": [],
       "_model_module": "@jupyter-widgets/controls",
       "_model_module_version": "1.5.0",
       "_model_name": "FloatProgressModel",
       "_view_count": null,
       "_view_module": "@jupyter-widgets/controls",
       "_view_module_version": "1.5.0",
       "_view_name": "ProgressView",
       "bar_style": "success",
       "description": "",
       "description_tooltip": null,
       "layout": "IPY_MODEL_bd93d29ef7b14d74b44a269d68409519",
       "max": 4542.0,
       "min": 0.0,
       "orientation": "horizontal",
       "style": "IPY_MODEL_b0d675b9c4bd4641a663fb761d3896b4",
       "value": 4542.0
      }
     },
     "98d5d4a63b094604baa30778e33c802e": {
      "model_module": "@jupyter-widgets/controls",
      "model_module_version": "1.5.0",
      "model_name": "ProgressStyleModel",
      "state": {
       "_model_module": "@jupyter-widgets/controls",
       "_model_module_version": "1.5.0",
       "_model_name": "ProgressStyleModel",
       "_view_count": null,
       "_view_module": "@jupyter-widgets/base",
       "_view_module_version": "1.2.0",
       "_view_name": "StyleView",
       "bar_color": null,
       "description_width": ""
      }
     },
     "9c65dc57ba0b44b3b5d985bfd38ab62a": {
      "model_module": "@jupyter-widgets/base",
      "model_module_version": "1.2.0",
      "model_name": "LayoutModel",
      "state": {
       "_model_module": "@jupyter-widgets/base",
       "_model_module_version": "1.2.0",
       "_model_name": "LayoutModel",
       "_view_count": null,
       "_view_module": "@jupyter-widgets/base",
       "_view_module_version": "1.2.0",
       "_view_name": "LayoutView",
       "align_content": null,
       "align_items": null,
       "align_self": null,
       "border": null,
       "bottom": null,
       "display": null,
       "flex": null,
       "flex_flow": null,
       "grid_area": null,
       "grid_auto_columns": null,
       "grid_auto_flow": null,
       "grid_auto_rows": null,
       "grid_column": null,
       "grid_gap": null,
       "grid_row": null,
       "grid_template_areas": null,
       "grid_template_columns": null,
       "grid_template_rows": null,
       "height": null,
       "justify_content": null,
       "justify_items": null,
       "left": null,
       "margin": null,
       "max_height": null,
       "max_width": null,
       "min_height": null,
       "min_width": null,
       "object_fit": null,
       "object_position": null,
       "order": null,
       "overflow": null,
       "overflow_x": null,
       "overflow_y": null,
       "padding": null,
       "right": null,
       "top": null,
       "visibility": null,
       "width": null
      }
     },
     "9ca17f552a71419482aa748fbb0e45a9": {
      "model_module": "@jupyter-widgets/controls",
      "model_module_version": "1.5.0",
      "model_name": "DescriptionStyleModel",
      "state": {
       "_model_module": "@jupyter-widgets/controls",
       "_model_module_version": "1.5.0",
       "_model_name": "DescriptionStyleModel",
       "_view_count": null,
       "_view_module": "@jupyter-widgets/base",
       "_view_module_version": "1.2.0",
       "_view_name": "StyleView",
       "description_width": ""
      }
     },
     "a1e96413cf1a4b1b9b84e5aa2455d203": {
      "model_module": "@jupyter-widgets/controls",
      "model_module_version": "1.5.0",
      "model_name": "ProgressStyleModel",
      "state": {
       "_model_module": "@jupyter-widgets/controls",
       "_model_module_version": "1.5.0",
       "_model_name": "ProgressStyleModel",
       "_view_count": null,
       "_view_module": "@jupyter-widgets/base",
       "_view_module_version": "1.2.0",
       "_view_name": "StyleView",
       "bar_color": null,
       "description_width": ""
      }
     },
     "a3122fe844e54be59484859becadf9fb": {
      "model_module": "@jupyter-widgets/controls",
      "model_module_version": "1.5.0",
      "model_name": "HTMLModel",
      "state": {
       "_dom_classes": [],
       "_model_module": "@jupyter-widgets/controls",
       "_model_module_version": "1.5.0",
       "_model_name": "HTMLModel",
       "_view_count": null,
       "_view_module": "@jupyter-widgets/controls",
       "_view_module_version": "1.5.0",
       "_view_name": "HTMLView",
       "description": "",
       "description_tooltip": null,
       "layout": "IPY_MODEL_3c0dd524ed804cedbc797b6779efd163",
       "placeholder": "​",
       "style": "IPY_MODEL_ac90bd4d4fb847e29fe968c9ebdcb9b1",
       "value": ""
      }
     },
     "ac31047707cd45bfa57b92264c282956": {
      "model_module": "@jupyter-widgets/base",
      "model_module_version": "1.2.0",
      "model_name": "LayoutModel",
      "state": {
       "_model_module": "@jupyter-widgets/base",
       "_model_module_version": "1.2.0",
       "_model_name": "LayoutModel",
       "_view_count": null,
       "_view_module": "@jupyter-widgets/base",
       "_view_module_version": "1.2.0",
       "_view_name": "LayoutView",
       "align_content": null,
       "align_items": null,
       "align_self": null,
       "border": null,
       "bottom": null,
       "display": null,
       "flex": null,
       "flex_flow": null,
       "grid_area": null,
       "grid_auto_columns": null,
       "grid_auto_flow": null,
       "grid_auto_rows": null,
       "grid_column": null,
       "grid_gap": null,
       "grid_row": null,
       "grid_template_areas": null,
       "grid_template_columns": null,
       "grid_template_rows": null,
       "height": null,
       "justify_content": null,
       "justify_items": null,
       "left": null,
       "margin": null,
       "max_height": null,
       "max_width": null,
       "min_height": null,
       "min_width": null,
       "object_fit": null,
       "object_position": null,
       "order": null,
       "overflow": null,
       "overflow_x": null,
       "overflow_y": null,
       "padding": null,
       "right": null,
       "top": null,
       "visibility": null,
       "width": null
      }
     },
     "ac90bd4d4fb847e29fe968c9ebdcb9b1": {
      "model_module": "@jupyter-widgets/controls",
      "model_module_version": "1.5.0",
      "model_name": "DescriptionStyleModel",
      "state": {
       "_model_module": "@jupyter-widgets/controls",
       "_model_module_version": "1.5.0",
       "_model_name": "DescriptionStyleModel",
       "_view_count": null,
       "_view_module": "@jupyter-widgets/base",
       "_view_module_version": "1.2.0",
       "_view_name": "StyleView",
       "description_width": ""
      }
     },
     "acaf834a52cb4c9f891c833359c389d9": {
      "model_module": "@jupyter-widgets/base",
      "model_module_version": "1.2.0",
      "model_name": "LayoutModel",
      "state": {
       "_model_module": "@jupyter-widgets/base",
       "_model_module_version": "1.2.0",
       "_model_name": "LayoutModel",
       "_view_count": null,
       "_view_module": "@jupyter-widgets/base",
       "_view_module_version": "1.2.0",
       "_view_name": "LayoutView",
       "align_content": null,
       "align_items": null,
       "align_self": null,
       "border": null,
       "bottom": null,
       "display": null,
       "flex": null,
       "flex_flow": null,
       "grid_area": null,
       "grid_auto_columns": null,
       "grid_auto_flow": null,
       "grid_auto_rows": null,
       "grid_column": null,
       "grid_gap": null,
       "grid_row": null,
       "grid_template_areas": null,
       "grid_template_columns": null,
       "grid_template_rows": null,
       "height": null,
       "justify_content": null,
       "justify_items": null,
       "left": null,
       "margin": null,
       "max_height": null,
       "max_width": null,
       "min_height": null,
       "min_width": null,
       "object_fit": null,
       "object_position": null,
       "order": null,
       "overflow": null,
       "overflow_x": null,
       "overflow_y": null,
       "padding": null,
       "right": null,
       "top": null,
       "visibility": null,
       "width": null
      }
     },
     "afd7e71f062f49eeb8794a8ae2863bef": {
      "model_module": "@jupyter-widgets/controls",
      "model_module_version": "1.5.0",
      "model_name": "ProgressStyleModel",
      "state": {
       "_model_module": "@jupyter-widgets/controls",
       "_model_module_version": "1.5.0",
       "_model_name": "ProgressStyleModel",
       "_view_count": null,
       "_view_module": "@jupyter-widgets/base",
       "_view_module_version": "1.2.0",
       "_view_name": "StyleView",
       "bar_color": null,
       "description_width": ""
      }
     },
     "b0d675b9c4bd4641a663fb761d3896b4": {
      "model_module": "@jupyter-widgets/controls",
      "model_module_version": "1.5.0",
      "model_name": "ProgressStyleModel",
      "state": {
       "_model_module": "@jupyter-widgets/controls",
       "_model_module_version": "1.5.0",
       "_model_name": "ProgressStyleModel",
       "_view_count": null,
       "_view_module": "@jupyter-widgets/base",
       "_view_module_version": "1.2.0",
       "_view_name": "StyleView",
       "bar_color": null,
       "description_width": ""
      }
     },
     "b2012a73d11249dbbd83f2a9d0ca82f0": {
      "model_module": "@jupyter-widgets/controls",
      "model_module_version": "1.5.0",
      "model_name": "HTMLModel",
      "state": {
       "_dom_classes": [],
       "_model_module": "@jupyter-widgets/controls",
       "_model_module_version": "1.5.0",
       "_model_name": "HTMLModel",
       "_view_count": null,
       "_view_module": "@jupyter-widgets/controls",
       "_view_module_version": "1.5.0",
       "_view_name": "HTMLView",
       "description": "",
       "description_tooltip": null,
       "layout": "IPY_MODEL_9c65dc57ba0b44b3b5d985bfd38ab62a",
       "placeholder": "​",
       "style": "IPY_MODEL_01ac3bb590a7476593932e163c050f3a",
       "value": ""
      }
     },
     "b51039039f4c417faeba5c9a039cbbc1": {
      "model_module": "@jupyter-widgets/controls",
      "model_module_version": "1.5.0",
      "model_name": "DescriptionStyleModel",
      "state": {
       "_model_module": "@jupyter-widgets/controls",
       "_model_module_version": "1.5.0",
       "_model_name": "DescriptionStyleModel",
       "_view_count": null,
       "_view_module": "@jupyter-widgets/base",
       "_view_module_version": "1.2.0",
       "_view_name": "StyleView",
       "description_width": ""
      }
     },
     "b57ae8dbfe184edd8042dcf843ae156c": {
      "model_module": "@jupyter-widgets/base",
      "model_module_version": "1.2.0",
      "model_name": "LayoutModel",
      "state": {
       "_model_module": "@jupyter-widgets/base",
       "_model_module_version": "1.2.0",
       "_model_name": "LayoutModel",
       "_view_count": null,
       "_view_module": "@jupyter-widgets/base",
       "_view_module_version": "1.2.0",
       "_view_name": "LayoutView",
       "align_content": null,
       "align_items": null,
       "align_self": null,
       "border": null,
       "bottom": null,
       "display": null,
       "flex": null,
       "flex_flow": null,
       "grid_area": null,
       "grid_auto_columns": null,
       "grid_auto_flow": null,
       "grid_auto_rows": null,
       "grid_column": null,
       "grid_gap": null,
       "grid_row": null,
       "grid_template_areas": null,
       "grid_template_columns": null,
       "grid_template_rows": null,
       "height": null,
       "justify_content": null,
       "justify_items": null,
       "left": null,
       "margin": null,
       "max_height": null,
       "max_width": null,
       "min_height": null,
       "min_width": null,
       "object_fit": null,
       "object_position": null,
       "order": null,
       "overflow": null,
       "overflow_x": null,
       "overflow_y": null,
       "padding": null,
       "right": null,
       "top": null,
       "visibility": null,
       "width": null
      }
     },
     "bd93d29ef7b14d74b44a269d68409519": {
      "model_module": "@jupyter-widgets/base",
      "model_module_version": "1.2.0",
      "model_name": "LayoutModel",
      "state": {
       "_model_module": "@jupyter-widgets/base",
       "_model_module_version": "1.2.0",
       "_model_name": "LayoutModel",
       "_view_count": null,
       "_view_module": "@jupyter-widgets/base",
       "_view_module_version": "1.2.0",
       "_view_name": "LayoutView",
       "align_content": null,
       "align_items": null,
       "align_self": null,
       "border": null,
       "bottom": null,
       "display": null,
       "flex": null,
       "flex_flow": null,
       "grid_area": null,
       "grid_auto_columns": null,
       "grid_auto_flow": null,
       "grid_auto_rows": null,
       "grid_column": null,
       "grid_gap": null,
       "grid_row": null,
       "grid_template_areas": null,
       "grid_template_columns": null,
       "grid_template_rows": null,
       "height": null,
       "justify_content": null,
       "justify_items": null,
       "left": null,
       "margin": null,
       "max_height": null,
       "max_width": null,
       "min_height": null,
       "min_width": null,
       "object_fit": null,
       "object_position": null,
       "order": null,
       "overflow": null,
       "overflow_x": null,
       "overflow_y": null,
       "padding": null,
       "right": null,
       "top": null,
       "visibility": null,
       "width": null
      }
     },
     "c13f53606b9a42228011ff40c06a1b99": {
      "model_module": "@jupyter-widgets/controls",
      "model_module_version": "1.5.0",
      "model_name": "FloatProgressModel",
      "state": {
       "_dom_classes": [],
       "_model_module": "@jupyter-widgets/controls",
       "_model_module_version": "1.5.0",
       "_model_name": "FloatProgressModel",
       "_view_count": null,
       "_view_module": "@jupyter-widgets/controls",
       "_view_module_version": "1.5.0",
       "_view_name": "ProgressView",
       "bar_style": "success",
       "description": "",
       "description_tooltip": null,
       "layout": "IPY_MODEL_083b5cd94f7845e792294af88b9375e4",
       "max": 9912422.0,
       "min": 0.0,
       "orientation": "horizontal",
       "style": "IPY_MODEL_98d5d4a63b094604baa30778e33c802e",
       "value": 9912422.0
      }
     },
     "cb70fa315d0b4909a5d52ca7eb84ed79": {
      "model_module": "@jupyter-widgets/controls",
      "model_module_version": "1.5.0",
      "model_name": "HBoxModel",
      "state": {
       "_dom_classes": [],
       "_model_module": "@jupyter-widgets/controls",
       "_model_module_version": "1.5.0",
       "_model_name": "HBoxModel",
       "_view_count": null,
       "_view_module": "@jupyter-widgets/controls",
       "_view_module_version": "1.5.0",
       "_view_name": "HBoxView",
       "box_style": "",
       "children": [
        "IPY_MODEL_63f27878b60c460eb04f964e5dee8378",
        "IPY_MODEL_98224fbe75e54e069daef3177255d0f5",
        "IPY_MODEL_5764ea055d7b459797e6c8375669e1dc"
       ],
       "layout": "IPY_MODEL_e966403225674df3ab435b7e0483b50f"
      }
     },
     "dcbed18365d54ca987450d929fdedda7": {
      "model_module": "@jupyter-widgets/controls",
      "model_module_version": "1.5.0",
      "model_name": "HTMLModel",
      "state": {
       "_dom_classes": [],
       "_model_module": "@jupyter-widgets/controls",
       "_model_module_version": "1.5.0",
       "_model_name": "HTMLModel",
       "_view_count": null,
       "_view_module": "@jupyter-widgets/controls",
       "_view_module_version": "1.5.0",
       "_view_name": "HTMLView",
       "description": "",
       "description_tooltip": null,
       "layout": "IPY_MODEL_8e30633e236749ad9e388bce7edc137c",
       "placeholder": "​",
       "style": "IPY_MODEL_b51039039f4c417faeba5c9a039cbbc1",
       "value": " 1649664/? [00:00&lt;00:00, 5485127.90it/s]"
      }
     },
     "e23db2d7f2d24f0a924baca919366c1a": {
      "model_module": "@jupyter-widgets/controls",
      "model_module_version": "1.5.0",
      "model_name": "HBoxModel",
      "state": {
       "_dom_classes": [],
       "_model_module": "@jupyter-widgets/controls",
       "_model_module_version": "1.5.0",
       "_model_name": "HBoxModel",
       "_view_count": null,
       "_view_module": "@jupyter-widgets/controls",
       "_view_module_version": "1.5.0",
       "_view_name": "HBoxView",
       "box_style": "",
       "children": [
        "IPY_MODEL_0d13638823f94b988516ef310854f5de",
        "IPY_MODEL_7045c1c097084687bfb07f3b15f093d6",
        "IPY_MODEL_2672a641763c4480910da819e3735553"
       ],
       "layout": "IPY_MODEL_ac31047707cd45bfa57b92264c282956"
      }
     },
     "e2f846019e2c4892a22763a2d1015ea5": {
      "model_module": "@jupyter-widgets/controls",
      "model_module_version": "1.5.0",
      "model_name": "DescriptionStyleModel",
      "state": {
       "_model_module": "@jupyter-widgets/controls",
       "_model_module_version": "1.5.0",
       "_model_name": "DescriptionStyleModel",
       "_view_count": null,
       "_view_module": "@jupyter-widgets/base",
       "_view_module_version": "1.2.0",
       "_view_name": "StyleView",
       "description_width": ""
      }
     },
     "e5ce3d843ef34d1ea470b9357d0d2bab": {
      "model_module": "@jupyter-widgets/base",
      "model_module_version": "1.2.0",
      "model_name": "LayoutModel",
      "state": {
       "_model_module": "@jupyter-widgets/base",
       "_model_module_version": "1.2.0",
       "_model_name": "LayoutModel",
       "_view_count": null,
       "_view_module": "@jupyter-widgets/base",
       "_view_module_version": "1.2.0",
       "_view_name": "LayoutView",
       "align_content": null,
       "align_items": null,
       "align_self": null,
       "border": null,
       "bottom": null,
       "display": null,
       "flex": null,
       "flex_flow": null,
       "grid_area": null,
       "grid_auto_columns": null,
       "grid_auto_flow": null,
       "grid_auto_rows": null,
       "grid_column": null,
       "grid_gap": null,
       "grid_row": null,
       "grid_template_areas": null,
       "grid_template_columns": null,
       "grid_template_rows": null,
       "height": null,
       "justify_content": null,
       "justify_items": null,
       "left": null,
       "margin": null,
       "max_height": null,
       "max_width": null,
       "min_height": null,
       "min_width": null,
       "object_fit": null,
       "object_position": null,
       "order": null,
       "overflow": null,
       "overflow_x": null,
       "overflow_y": null,
       "padding": null,
       "right": null,
       "top": null,
       "visibility": null,
       "width": null
      }
     },
     "e820bfaa1e3f454cbcd7f3ebef3a6013": {
      "model_module": "@jupyter-widgets/base",
      "model_module_version": "1.2.0",
      "model_name": "LayoutModel",
      "state": {
       "_model_module": "@jupyter-widgets/base",
       "_model_module_version": "1.2.0",
       "_model_name": "LayoutModel",
       "_view_count": null,
       "_view_module": "@jupyter-widgets/base",
       "_view_module_version": "1.2.0",
       "_view_name": "LayoutView",
       "align_content": null,
       "align_items": null,
       "align_self": null,
       "border": null,
       "bottom": null,
       "display": null,
       "flex": null,
       "flex_flow": null,
       "grid_area": null,
       "grid_auto_columns": null,
       "grid_auto_flow": null,
       "grid_auto_rows": null,
       "grid_column": null,
       "grid_gap": null,
       "grid_row": null,
       "grid_template_areas": null,
       "grid_template_columns": null,
       "grid_template_rows": null,
       "height": null,
       "justify_content": null,
       "justify_items": null,
       "left": null,
       "margin": null,
       "max_height": null,
       "max_width": null,
       "min_height": null,
       "min_width": null,
       "object_fit": null,
       "object_position": null,
       "order": null,
       "overflow": null,
       "overflow_x": null,
       "overflow_y": null,
       "padding": null,
       "right": null,
       "top": null,
       "visibility": null,
       "width": null
      }
     },
     "e966403225674df3ab435b7e0483b50f": {
      "model_module": "@jupyter-widgets/base",
      "model_module_version": "1.2.0",
      "model_name": "LayoutModel",
      "state": {
       "_model_module": "@jupyter-widgets/base",
       "_model_module_version": "1.2.0",
       "_model_name": "LayoutModel",
       "_view_count": null,
       "_view_module": "@jupyter-widgets/base",
       "_view_module_version": "1.2.0",
       "_view_name": "LayoutView",
       "align_content": null,
       "align_items": null,
       "align_self": null,
       "border": null,
       "bottom": null,
       "display": null,
       "flex": null,
       "flex_flow": null,
       "grid_area": null,
       "grid_auto_columns": null,
       "grid_auto_flow": null,
       "grid_auto_rows": null,
       "grid_column": null,
       "grid_gap": null,
       "grid_row": null,
       "grid_template_areas": null,
       "grid_template_columns": null,
       "grid_template_rows": null,
       "height": null,
       "justify_content": null,
       "justify_items": null,
       "left": null,
       "margin": null,
       "max_height": null,
       "max_width": null,
       "min_height": null,
       "min_width": null,
       "object_fit": null,
       "object_position": null,
       "order": null,
       "overflow": null,
       "overflow_x": null,
       "overflow_y": null,
       "padding": null,
       "right": null,
       "top": null,
       "visibility": null,
       "width": null
      }
     },
     "f0b32be2f5b14067b696a21a27b21d1d": {
      "model_module": "@jupyter-widgets/controls",
      "model_module_version": "1.5.0",
      "model_name": "HBoxModel",
      "state": {
       "_dom_classes": [],
       "_model_module": "@jupyter-widgets/controls",
       "_model_module_version": "1.5.0",
       "_model_name": "HBoxModel",
       "_view_count": null,
       "_view_module": "@jupyter-widgets/controls",
       "_view_module_version": "1.5.0",
       "_view_name": "HBoxView",
       "box_style": "",
       "children": [
        "IPY_MODEL_a3122fe844e54be59484859becadf9fb",
        "IPY_MODEL_c13f53606b9a42228011ff40c06a1b99",
        "IPY_MODEL_39588c0a56e341a380b8c31bf0b68fa3"
       ],
       "layout": "IPY_MODEL_5ee5895f1ff347c888bd9eb347b4ef37"
      }
     },
     "feacea26566540149e4837a353b3571e": {
      "model_module": "@jupyter-widgets/controls",
      "model_module_version": "1.5.0",
      "model_name": "FloatProgressModel",
      "state": {
       "_dom_classes": [],
       "_model_module": "@jupyter-widgets/controls",
       "_model_module_version": "1.5.0",
       "_model_name": "FloatProgressModel",
       "_view_count": null,
       "_view_module": "@jupyter-widgets/controls",
       "_view_module_version": "1.5.0",
       "_view_name": "ProgressView",
       "bar_style": "success",
       "description": "",
       "description_tooltip": null,
       "layout": "IPY_MODEL_e5ce3d843ef34d1ea470b9357d0d2bab",
       "max": 1648877.0,
       "min": 0.0,
       "orientation": "horizontal",
       "style": "IPY_MODEL_afd7e71f062f49eeb8794a8ae2863bef",
       "value": 1648877.0
      }
     }
    },
    "version_major": 2,
    "version_minor": 0
   }
  }
 },
 "nbformat": 4,
 "nbformat_minor": 5
}
